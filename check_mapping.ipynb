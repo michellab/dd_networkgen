{
 "cells": [
  {
   "cell_type": "markdown",
   "id": "individual-sydney",
   "metadata": {},
   "source": [
    "Check mapping for several high SEM perts in jm_sem_pert_summary.ipynb."
   ]
  },
  {
   "cell_type": "code",
   "execution_count": 1,
   "id": "optical-perspective",
   "metadata": {},
   "outputs": [
    {
     "name": "stderr",
     "output_type": "stream",
     "text": [
      "/home/jscheen/miniconda3/envs/sire/lib/python3.7/importlib/_bootstrap.py:219: RuntimeWarning: numpy.ndarray size changed, may indicate binary incompatibility. Expected 80 from C header, got 88 from PyObject\n",
      "  return f(*args, **kwds)\n"
     ]
    }
   ],
   "source": [
    "import BioSimSpace as BSS\n",
    "\n",
    "from rdkit import Chem\n",
    "from rdkit.Chem import AllChem, rdmolops\n",
    "from rdkit.Chem import Draw\n",
    "from rdkit.Chem.Draw import IPythonConsole"
   ]
  },
  {
   "cell_type": "markdown",
   "id": "quiet-jerusalem",
   "metadata": {},
   "source": [
    "## mobley_1520842~mobley_6988468"
   ]
  },
  {
   "cell_type": "code",
   "execution_count": 3,
   "id": "mounted-kruger",
   "metadata": {},
   "outputs": [
    {
     "ename": "FileNotFoundError",
     "evalue": "[Errno 2] No such file or directory: '/tmp/tmpnhx8tu_i/./QUINTUP_LIGANDS/LIGAND_FILES/MOBLEY_1571523.PDB.pdb'",
     "output_type": "error",
     "traceback": [
      "\u001b[0;31m---------------------------------------------------------------------------\u001b[0m",
      "\u001b[0;31mFileNotFoundError\u001b[0m                         Traceback (most recent call last)",
      "\u001b[0;32m<ipython-input-3-4a6c0e871710>\u001b[0m in \u001b[0;36m<module>\u001b[0;34m\u001b[0m\n\u001b[1;32m      6\u001b[0m \u001b[0mpath_to_sdf_ligs\u001b[0m \u001b[0;34m=\u001b[0m \u001b[0;34m\"./quintup_ligands/sdffiles/\"\u001b[0m\u001b[0;34m\u001b[0m\u001b[0;34m\u001b[0m\u001b[0m\n\u001b[1;32m      7\u001b[0m \u001b[0;34m\u001b[0m\u001b[0m\n\u001b[0;32m----> 8\u001b[0;31m \u001b[0mmol1\u001b[0m \u001b[0;34m=\u001b[0m \u001b[0mBSS\u001b[0m\u001b[0;34m.\u001b[0m\u001b[0mIO\u001b[0m\u001b[0;34m.\u001b[0m\u001b[0mreadPDB\u001b[0m\u001b[0;34m(\u001b[0m\u001b[0mpath_to_ligs\u001b[0m\u001b[0;34m+\u001b[0m\u001b[0mliga_name\u001b[0m\u001b[0;34m+\u001b[0m\u001b[0;34m\".pdb\"\u001b[0m\u001b[0;34m)\u001b[0m\u001b[0;34m[\u001b[0m\u001b[0;36m0\u001b[0m\u001b[0;34m]\u001b[0m\u001b[0;34m\u001b[0m\u001b[0;34m\u001b[0m\u001b[0m\n\u001b[0m\u001b[1;32m      9\u001b[0m \u001b[0mmol2\u001b[0m \u001b[0;34m=\u001b[0m \u001b[0mBSS\u001b[0m\u001b[0;34m.\u001b[0m\u001b[0mIO\u001b[0m\u001b[0;34m.\u001b[0m\u001b[0mreadPDB\u001b[0m\u001b[0;34m(\u001b[0m\u001b[0mpath_to_ligs\u001b[0m\u001b[0;34m+\u001b[0m\u001b[0mligb_name\u001b[0m\u001b[0;34m+\u001b[0m\u001b[0;34m\".pdb\"\u001b[0m\u001b[0;34m)\u001b[0m\u001b[0;34m[\u001b[0m\u001b[0;36m0\u001b[0m\u001b[0;34m]\u001b[0m\u001b[0;34m\u001b[0m\u001b[0;34m\u001b[0m\u001b[0m\n\u001b[1;32m     10\u001b[0m \u001b[0;34m\u001b[0m\u001b[0m\n",
      "\u001b[0;32m~/miniconda3/envs/sire/lib/python3.7/site-packages/BioSimSpace/IO/_io.py\u001b[0m in \u001b[0;36mreadPDB\u001b[0;34m(id, property_map)\u001b[0m\n\u001b[1;32m    198\u001b[0m \u001b[0;34m\u001b[0m\u001b[0m\n\u001b[1;32m    199\u001b[0m     \u001b[0;31m# Now write the PDB string to file.\u001b[0m\u001b[0;34m\u001b[0m\u001b[0;34m\u001b[0m\u001b[0;34m\u001b[0m\u001b[0m\n\u001b[0;32m--> 200\u001b[0;31m     \u001b[0;32mwith\u001b[0m \u001b[0mopen\u001b[0m\u001b[0;34m(\u001b[0m\u001b[0mpdb_file\u001b[0m\u001b[0;34m,\u001b[0m \u001b[0;34m\"w\"\u001b[0m\u001b[0;34m)\u001b[0m \u001b[0;32mas\u001b[0m \u001b[0mfile\u001b[0m\u001b[0;34m:\u001b[0m\u001b[0;34m\u001b[0m\u001b[0;34m\u001b[0m\u001b[0m\n\u001b[0m\u001b[1;32m    201\u001b[0m         \u001b[0mfile\u001b[0m\u001b[0;34m.\u001b[0m\u001b[0mwrite\u001b[0m\u001b[0;34m(\u001b[0m\u001b[0mpdb_string\u001b[0m\u001b[0;34m)\u001b[0m\u001b[0;34m\u001b[0m\u001b[0;34m\u001b[0m\u001b[0m\n\u001b[1;32m    202\u001b[0m \u001b[0;34m\u001b[0m\u001b[0m\n",
      "\u001b[0;31mFileNotFoundError\u001b[0m: [Errno 2] No such file or directory: '/tmp/tmpnhx8tu_i/./QUINTUP_LIGANDS/LIGAND_FILES/MOBLEY_1571523.PDB.pdb'"
     ]
    }
   ],
   "source": [
    "# load molecules\n",
    "liga_name = \"mobley_1571523\"\n",
    "ligb_name = \"mobley_2763835\"\n",
    "\n",
    "path_to_ligs = \"./quintup_ligands/ligand_files/\"\n",
    "path_to_sdf_ligs = \"./quintup_ligands/sdffiles/\"\n",
    "\n",
    "mol1 = BSS.IO.readPDB(path_to_ligs+liga_name+\".pdb\")[0]\n",
    "mol2 = BSS.IO.readPDB(path_to_ligs+ligb_name+\".pdb\")[0]\n",
    "\n",
    "mol1_r = Chem.SDMolSupplier(path_to_ligs+liga_name+\".sdf\")[0]\n",
    "mol2_r = Chem.SDMolSupplier(path_to_ligs+ligb_name+\".sdf\")[0]\n",
    "AllChem.Compute2DCoords(mol1_r)\n",
    "AllChem.Compute2DCoords(mol2_r)\n",
    "Draw.MolsToGridImage([mol1_r, mol2_r])"
   ]
  },
  {
   "cell_type": "code",
   "execution_count": 75,
   "id": "generous-aspect",
   "metadata": {},
   "outputs": [],
   "source": [
    "mapping = BSS.Align.matchAtoms(mol1, mol2)"
   ]
  },
  {
   "cell_type": "code",
   "execution_count": 76,
   "id": "isolated-liverpool",
   "metadata": {},
   "outputs": [
    {
     "name": "stdout",
     "output_type": "stream",
     "text": [
      "C <-> C\n",
      "C <-> C\n",
      "C <-> C\n",
      "C <-> C\n",
      "N <-> C\n",
      "C <-> C\n",
      "C <-> C\n",
      "H <-> H\n",
      "H <-> H\n",
      "H <-> H\n",
      "H <-> N\n",
      "H <-> H\n",
      "H <-> H\n",
      "H <-> H\n"
     ]
    }
   ],
   "source": [
    "for atom1, atom2 in mapping.items():\n",
    "    print(mol1.getAtoms()[atom1].name(), \"<->\", mol2.getAtoms()[atom2].name())"
   ]
  },
  {
   "cell_type": "code",
   "execution_count": 77,
   "id": "coordinate-agenda",
   "metadata": {},
   "outputs": [
    {
     "name": "stdout",
     "output_type": "stream",
     "text": [
      "C <-> C\n",
      "C <-> C\n",
      "C <-> C\n",
      "C <-> C\n",
      "N <-> C\n",
      "C <-> C\n",
      "C <-> C\n",
      "H <-> H\n",
      "H <-> H\n",
      "H <-> H\n",
      "H <-> N\n",
      "H <-> H\n",
      "H <-> H\n",
      "H <-> H\n"
     ]
    }
   ],
   "source": [
    "mol1_r = rdmolops.AddHs(mol1_r)\n",
    "mol2_r = rdmolops.AddHs(mol2_r)\n",
    "for atom1, atom2 in mapping.items():\n",
    "    print(mol1_r.GetAtoms()[atom1].GetSymbol(), \"<->\", mol2_r.GetAtoms()[atom2].GetSymbol())"
   ]
  },
  {
   "cell_type": "code",
   "execution_count": 78,
   "id": "chemical-amber",
   "metadata": {},
   "outputs": [],
   "source": [
    "def mol_with_atom_index(mol):\n",
    "    for atom in mol.GetAtoms():\n",
    "        atom.SetAtomMapNum(atom.GetIdx())\n",
    "    return mol"
   ]
  },
  {
   "cell_type": "code",
   "execution_count": 79,
   "id": "significant-tomato",
   "metadata": {},
   "outputs": [
    {
     "data": {
      "image/png": "[encoded data removed]",
      "text/plain": [
       "<IPython.core.display.Image object>"
      ]
     },
     "execution_count": 79,
     "metadata": {},
     "output_type": "execute_result"
    }
   ],
   "source": [
    "AllChem.Compute2DCoords(mol1_r)\n",
    "AllChem.Compute2DCoords(mol2_r)\n",
    "\n",
    "Draw.MolsToGridImage([mol_with_atom_index(mol1_r), mol_with_atom_index(mol2_r)])"
   ]
  },
  {
   "cell_type": "code",
   "execution_count": 80,
   "id": "cloudy-double",
   "metadata": {},
   "outputs": [
    {
     "data": {
      "text/plain": [
       "{0: 0,\n",
       " 1: 1,\n",
       " 6: 2,\n",
       " 5: 3,\n",
       " 4: 4,\n",
       " 3: 5,\n",
       " 2: 6,\n",
       " 10: 16,\n",
       " 11: 15,\n",
       " 12: 13,\n",
       " 13: 7,\n",
       " 7: 10,\n",
       " 8: 9,\n",
       " 9: 8}"
      ]
     },
     "execution_count": 80,
     "metadata": {},
     "output_type": "execute_result"
    }
   ],
   "source": [
    "mapping"
   ]
  },
  {
   "cell_type": "code",
   "execution_count": 83,
   "id": "level-alloy",
   "metadata": {},
   "outputs": [
    {
     "name": "stdout",
     "output_type": "stream",
     "text": [
      "N <-> C\n",
      "C <-> C\n",
      "C <-> N\n",
      "H <-> H\n",
      "C <-> C\n",
      "C <-> C\n",
      "C <-> C\n",
      "C <-> C\n",
      "H <-> H\n",
      "H <-> H\n",
      "H <-> C\n",
      "H <-> H\n",
      "H <-> H\n"
     ]
    }
   ],
   "source": [
    "mapping = BSS.Align.matchAtoms(mol1, mol2, prematch={0 : 1})\n",
    "mol1_r = rdmolops.AddHs(mol1_r)\n",
    "mol2_r = rdmolops.AddHs(mol2_r)\n",
    "for atom1, atom2 in mapping.items():\n",
    "    print(mol1_r.GetAtoms()[atom1].GetSymbol(), \"<->\", mol2_r.GetAtoms()[atom2].GetSymbol())"
   ]
  },
  {
   "cell_type": "code",
   "execution_count": 84,
   "id": "fourth-group",
   "metadata": {},
   "outputs": [
    {
     "data": {
      "text/plain": [
       "{4: 5,\n",
       " 5: 6,\n",
       " 6: 7,\n",
       " 7: 11,\n",
       " 0: 1,\n",
       " 1: 2,\n",
       " 2: 3,\n",
       " 3: 4,\n",
       " 12: 16,\n",
       " 8: 12,\n",
       " 9: 0,\n",
       " 10: 13,\n",
       " 11: 14}"
      ]
     },
     "execution_count": 84,
     "metadata": {},
     "output_type": "execute_result"
    }
   ],
   "source": [
    "mapping"
   ]
  },
  {
   "cell_type": "code",
   "execution_count": 85,
   "id": "median-immunology",
   "metadata": {},
   "outputs": [
    {
     "data": {
      "image/png": "[encoded data removed]",
      "text/plain": [
       "<IPython.core.display.Image object>"
      ]
     },
     "execution_count": 85,
     "metadata": {},
     "output_type": "execute_result"
    }
   ],
   "source": [
    "Draw.MolsToGridImage([mol_with_atom_index(mol1_r), mol_with_atom_index(mol2_r)])"
   ]
  },
  {
   "cell_type": "code",
   "execution_count": null,
   "id": "industrial-transparency",
   "metadata": {},
   "outputs": [],
   "source": []
  }
 ],
 "metadata": {
  "kernelspec": {
   "display_name": "Python 3",
   "language": "python",
   "name": "python3"
  },
  "language_info": {
   "codemirror_mode": {
    "name": "ipython",
    "version": 3
   },
   "file_extension": ".py",
   "mimetype": "text/x-python",
   "name": "python",
   "nbconvert_exporter": "python",
   "pygments_lexer": "ipython3",
   "version": "3.7.8"
  }
 },
 "nbformat": 4,
 "nbformat_minor": 5
}
