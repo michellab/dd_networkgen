{
 "cells": [
  {
   "cell_type": "markdown",
   "metadata": {},
   "source": [
    "## Use DiffNet to create FEP network plan based on ML PD predictions"
   ]
  },
  {
   "cell_type": "code",
   "execution_count": 1,
   "metadata": {},
   "outputs": [],
   "source": [
    "%matplotlib inline\n",
    "import matplotlib\n",
    "from matplotlib import pyplot as plt\n",
    "matplotlib.rcParams['font.size'] = 20\n",
    "matplotlib.rcParams['figure.dpi']= 100\n",
    "from tqdm.notebook import tqdm"
   ]
  },
  {
   "cell_type": "code",
   "execution_count": 2,
   "metadata": {},
   "outputs": [],
   "source": [
    "import networkx as nx\n",
    "import numpy as np\n",
    "from cvxopt import matrix\n",
    "\n",
    "import sys\n",
    "sys.path.append(\"DiffNet\")\n",
    "import diffnet as dn\n",
    "import graph as gph\n",
    "from netbfe import *\n",
    "\n",
    "import glob\n",
    "import csv\n",
    "import pandas as pd \n",
    "import pickle\n",
    "import itertools\n",
    "import matplotlib.image as mpimg\n",
    "from numpy.lib.stride_tricks import as_strided"
   ]
  },
  {
   "cell_type": "code",
   "execution_count": 3,
   "metadata": {},
   "outputs": [],
   "source": [
    "from rdkit import Chem, DataStructs\n",
    "from rdkit.Chem import Draw, rdFMCS, AllChem, rdmolfiles, Descriptors, rdchem, rdMolDescriptors\n",
    "from rdkit.Chem.AtomPairs import Pairs\n",
    "\n",
    "import mordred\n",
    "from mordred import Calculator, descriptors"
   ]
  },
  {
   "cell_type": "code",
   "execution_count": 4,
   "metadata": {},
   "outputs": [],
   "source": [
    "import sklearn\n",
    "from sklearn.manifold import TSNE\n",
    "from sklearn.neural_network import MLPRegressor\n",
    "from sklearn.decomposition import PCA\n",
    "from sklearn import preprocessing\n",
    "from sklearn.svm import SVR\n",
    "from sklearn.model_selection import GridSearchCV, RandomizedSearchCV\n",
    "from sklearn.ensemble import RandomForestClassifier\n",
    "\n",
    "from sklearn.metrics import make_scorer\n",
    "from sklearn.metrics import mean_absolute_error\n",
    "from sklearn.metrics import r2_score\n",
    "from sklearn import metrics\n",
    "from scipy import stats\n"
   ]
  },
  {
   "cell_type": "markdown",
   "metadata": {},
   "source": [
    "## Train RF ensemble "
   ]
  },
  {
   "cell_type": "code",
   "execution_count": 5,
   "metadata": {},
   "outputs": [],
   "source": [
    "quints_fps = pd.read_csv(\"output/quints_fps.csv\", header=None)\n",
    "quints_infos = pd.read_csv(\"output/quints_infos.csv\", names=[\"set\", \"pertname\", \"pertsmarts\", \"num_ha\", \"sem\"])\n",
    "\n",
    "quints_whole_df = pd.concat([quints_infos, quints_fps], axis=1)\n",
    "\n",
    "# drop faulty perturbations (n=66) that required sanitisation pre simulation. FE wrong because of atom mapping mistakes.\n",
    "exclude_perts = [pert[0] for pert in pd.read_csv(\"to_do_sims/mapping_mismatches.csv\", header=None).values.tolist()]\n",
    "\n",
    "# extend list with inverse perts, we want to remove those as well.\n",
    "inv_perts_to_exlude = []\n",
    "for pert in exclude_perts:\n",
    "    inv_perts_to_exlude.append(pert.split(\"~\")[1]+\"~\"+pert.split(\"~\")[0]) \n",
    "for pert in inv_perts_to_exlude:\n",
    "    exclude_perts.append(pert)\n",
    "\n",
    "quints_whole_df = quints_whole_df[~quints_whole_df['pertname'].isin(exclude_perts)]\n"
   ]
  },
  {
   "cell_type": "code",
   "execution_count": 6,
   "metadata": {},
   "outputs": [],
   "source": [
    "# drop NaN columns (happens with molprop generation where (error) strings can't be subtracted)\n",
    "quints_whole_df = quints_whole_df.dropna(axis=1)\n",
    "\n",
    "# drop rows where SEM == 0.0. It seems some very large perturbations get this value too, so makes training noisy.\n",
    "quints_whole_df = quints_whole_df[quints_whole_df[\"sem\"] > 0.0001]\n",
    "\n",
    "# drop columns where all values are 0.\n",
    "quints_whole_df = quints_whole_df.loc[:, (quints_whole_df != 0).any(axis=0)]\n",
    "\n",
    "# TMP DROP DUPLICATES --> should be fewer duplicates when we move up to more features.\n",
    "quints_whole_df = quints_whole_df.drop_duplicates(subset=quints_whole_df.columns.difference(['sem','set','pertname','pertsmarts']))"
   ]
  },
  {
   "cell_type": "code",
   "execution_count": 7,
   "metadata": {},
   "outputs": [
    {
     "name": "stdout",
     "output_type": "stream",
     "text": [
      "Bin, Min, Max, Volume\n",
      "(0, 0.01, 0.05, 328)\n",
      "(1, 0.05, 0.07, 326)\n",
      "(2, 0.07, 0.09, 326)\n",
      "(3, 0.09, 0.11, 325)\n",
      "(4, 0.11, 0.13, 328)\n",
      "(5, 0.13, 0.16, 326)\n",
      "(6, 0.16, 0.2, 326)\n",
      "(7, 0.2, 0.3, 326)\n",
      "(8, 0.3, 0.64, 326)\n",
      "(9, 0.64, 26.33, 326)\n"
     ]
    }
   ],
   "source": [
    "### TMP DISCRETIZE BY STRATIFICATION:\n",
    "n_bins=10\n",
    "\n",
    "binned_sem = pd.qcut(quints_whole_df[\"sem\"], n_bins, labels=False)\n",
    "bin_means = []\n",
    "quints_whole_df[\"sem_bin\"] = binned_sem\n",
    "print(\"Bin, Min, Max, Volume\")\n",
    "for n_bin, df_group in quints_whole_df.groupby(by=\"sem_bin\"):\n",
    "    print(n_bin, round(min(df_group[\"sem\"].values), 2), round(max(df_group[\"sem\"].values), 2), len(df_group))\n",
    "    bin_means.append(np.mean(df_group[\"sem\"].values))"
   ]
  },
  {
   "cell_type": "code",
   "execution_count": 8,
   "metadata": {},
   "outputs": [],
   "source": [
    "quints_fps = quints_whole_df.drop([\"set\", \"pertname\", \"pertsmarts\", \"num_ha\", \"sem\", \"sem_bin\"], axis=1)\n",
    "quints_fps = quints_fps.values\n",
    "quints_infos = quints_whole_df[[\"set\", \"pertname\", \"pertsmarts\", \"num_ha\", \"sem\", \"sem_bin\"]]"
   ]
  },
  {
   "cell_type": "code",
   "execution_count": 9,
   "metadata": {},
   "outputs": [],
   "source": [
    "def takeSubset(indices, quints_whole_df):\n",
    "    \"\"\"Take a selection of a dataframe using indices\"\"\"\n",
    "    subset = quints_whole_df.iloc[indices]\n",
    "    \n",
    "    return subset\n",
    "\n",
    "def takeInfo(perts_df):\n",
    "    \"\"\"from an input dataframe, return arrays of fingerprints and SEMs\"\"\"\n",
    "    sems = perts_df[[\"sem_bin\", \"sem\"]].values\n",
    "    \n",
    "    # fps is a bit more involved. Remove everything but the FP columns, return as 2d array.\n",
    "    fps_df = perts_df.drop([\"set\", \"pertname\", \"pertsmarts\", \"num_ha\", \"sem\", \"sem_bin\"], axis=1)\n",
    "    fps = fps_df.values\n",
    "\n",
    "    return fps, sems, fps_df.columns.values"
   ]
  },
  {
   "cell_type": "code",
   "execution_count": 10,
   "metadata": {},
   "outputs": [],
   "source": [
    "def preProcessSet(train):\n",
    "    \"\"\"standardises and reduces dimensionality to 95% VE; returns arrays\"\"\"\n",
    "    \n",
    "    #### fit the scaler on training set.\n",
    "    scaler = preprocessing.StandardScaler()\n",
    "    train_scaled = scaler.fit_transform(train)\n",
    "    \n",
    "   \n",
    "    #### fit PCA on training set with 95% variance explained.\n",
    "    pca = PCA(n_components=0.95)\n",
    "    train_preprocessed = pca.fit_transform(train_scaled)\n",
    "    \n",
    "    \n",
    "    return train_preprocessed, scaler, pca"
   ]
  },
  {
   "cell_type": "code",
   "execution_count": 11,
   "metadata": {},
   "outputs": [],
   "source": [
    "## TMP RANDOM SPLIT INSTEAD OF TSNE SPLIT\n",
    "from sklearn.model_selection import train_test_split\n",
    "whole_set, whole_set_sem_bins, column_indices_to_keep = takeInfo(takeSubset(np.array(range(len(quints_whole_df))), quints_whole_df))\n",
    "\n",
    "# preprocess.\n",
    "whole_set, scaler, pca = preProcessSet(whole_set)\n",
    "\n",
    "# split\n",
    "split = 0.2\n",
    "train_set, test_set1, train_sems, upper_test_sems = train_test_split(whole_set, whole_set_sem_bins, test_size=split, random_state=42)\n",
    "\n",
    "# save scaler and pca so that we can apply to test set.\n",
    "pickle.dump(scaler, open(\"output/scaler.pkl\", 'wb'))\n",
    "pickle.dump(pca, open(\"output/pca.pkl\", 'wb'))\n",
    "\n",
    "# adjust label arrays such that we train on classes, but keep the actual SEM values for later.\n",
    "train_sems_values = train_sems[:,1]\n",
    "train_sems = train_sems[:,0]\n",
    "\n",
    "upper_test_sems_values = upper_test_sems[:,1]\n",
    "upper_test_sems = upper_test_sems[:,0]\n",
    "\n",
    "n_classes = len(set(train_sems))"
   ]
  },
  {
   "cell_type": "code",
   "execution_count": 31,
   "metadata": {},
   "outputs": [
    {
     "data": {
      "application/vnd.jupyter.widget-view+json": {
       "model_id": "fbc74fe57d1f4184ad8d011ac7ba7893",
       "version_major": 2,
       "version_minor": 0
      },
      "text/plain": [
       "  0%|          | 0/10 [00:00<?, ?it/s]"
      ]
     },
     "metadata": {},
     "output_type": "display_data"
    }
   ],
   "source": [
    "grid_predictions = None\n",
    "grid_predictions = np.empty((len(test_set1),n_classes))\n",
    "for i in tqdm(range(10)):\n",
    "    hyperparams={'max_depth': 30, 'min_samples_leaf': 10, 'min_samples_split': 2, 'n_estimators': 1200}\n",
    "                            \n",
    "    forest = RandomForestClassifier(**hyperparams)\n",
    "    forest.fit(np.array(train_set), np.array(train_sems))\n",
    "    predicted_probas = forest.predict_proba(test_set1) \n",
    "    grid_predictions += predicted_probas\n",
    "\n",
    "    pickle.dump(forest, open(\"output/rf_{}.pkl\".format(i), 'wb'))"
   ]
  },
  {
   "cell_type": "code",
   "execution_count": 32,
   "metadata": {},
   "outputs": [
    {
     "name": "stdout",
     "output_type": "stream",
     "text": [
      "Acc: 0.13\n",
      "Tau: 0.13\n"
     ]
    },
    {
     "data": {
      "image/png": "[encoded data removed]",
      "text/plain": [
       "<Figure size 360x360 with 1 Axes>"
      ]
     },
     "metadata": {
      "needs_background": "light"
     },
     "output_type": "display_data"
    }
   ],
   "source": [
    "# Plot validation for the training.\n",
    "model_preds = [np.argmax(pred) for pred in grid_predictions]\n",
    "print \"Acc:\", round(metrics.accuracy_score(upper_test_sems, model_preds), 2)\n",
    "print \"Tau:\", round(stats.kendalltau(upper_test_sems, model_preds)[0], 2)\n",
    "from scipy.stats import gaussian_kde\n",
    "\n",
    "# Calculate the point density\n",
    "xy = np.vstack([upper_test_sems, model_preds])\n",
    "z = gaussian_kde(xy)(xy)\n",
    "\n",
    "\n",
    "fig, ax = plt.subplots(figsize=(5,5))\n",
    "ax.scatter(upper_test_sems, model_preds, c=z, s=100, edgecolor=None)\n",
    "plt.xlabel(\"True SEM class\")\n",
    "plt.ylabel(\"Predicted SEM class\")\n",
    "plt.show()"
   ]
  },
  {
   "cell_type": "markdown",
   "metadata": {},
   "source": [
    "### Load Loeffler18 set and featurise"
   ]
  },
  {
   "cell_type": "code",
   "execution_count": 33,
   "metadata": {},
   "outputs": [],
   "source": [
    "mols = [ rdmolfiles.MolFromPDBFile(mol) for mol in glob.glob(\"TESTSETS/loeffler18/LIGANDS/*\") ]\n",
    "# sanitise.\n",
    "for mol in mols: \n",
    "    Chem.SanitizeMol(mol)\n",
    "\n",
    "mol_names = [ molpath.split(\"/\")[-1].split(\".pdb\")[0] for molpath in glob.glob(\"TESTSETS/loeffler18/LIGANDS/*\") ]"
   ]
  },
  {
   "cell_type": "code",
   "execution_count": 34,
   "metadata": {},
   "outputs": [],
   "source": [
    "# load scaler and pca from trainingset protocol.\n",
    "scaler = pickle.load(open(\"output/scaler.pkl\", 'rb'))\n",
    "pca = pickle.load(open(\"output/pca.pkl\", 'rb'))"
   ]
  },
  {
   "cell_type": "code",
   "execution_count": 35,
   "metadata": {},
   "outputs": [],
   "source": [
    "# get the featuriser.\n",
    "descriptors_raw = open(\"./used_descriptors.txt\", \"r\")\n",
    "descriptors_raw_list = [line.split(\"\\r\") for line in descriptors_raw.readlines()]\n",
    "descriptors_list = [desc[0] for desc in descriptors_raw_list]\n",
    "\n",
    "calc = Calculator(descriptors, ignore_3D=False)  # register all descriptors\n",
    "calc.descriptors = [d for d in calc.descriptors if str(d) in descriptors_list]  # re-register subset of descriptors\n"
   ]
  },
  {
   "cell_type": "code",
   "execution_count": 36,
   "metadata": {},
   "outputs": [],
   "source": [
    "molprops_per_lig = [ np.array(calc(mol)) for mol in mols ]\n",
    "molprops_per_lig_d = dict(zip(mol_names, molprops_per_lig))\n"
   ]
  },
  {
   "cell_type": "code",
   "execution_count": 37,
   "metadata": {},
   "outputs": [],
   "source": [
    "# load all random forest models.\n",
    "rf_models = []\n",
    "for model_path in glob.glob(\"output/rf_*.pkl\"):\n",
    "    rf_models.append(pickle.load(open(model_path, 'rb')))"
   ]
  },
  {
   "cell_type": "code",
   "execution_count": 38,
   "metadata": {
    "scrolled": false
   },
   "outputs": [
    {
     "data": {
      "application/vnd.jupyter.widget-view+json": {
       "model_id": "bf4203fd828f403ba4252065e048cf7e",
       "version_major": 2,
       "version_minor": 0
      },
      "text/plain": [
       "  0%|          | 0/45 [00:00<?, ?it/s]"
      ]
     },
     "metadata": {},
     "output_type": "display_data"
    }
   ],
   "source": [
    "# make all possible perturbations (i.e. combinations).\n",
    "preds = []\n",
    "for liga, ligb in tqdm(list(itertools.combinations(mol_names, 2))):\n",
    "    \n",
    "    \n",
    "    \n",
    "    # compute features.\n",
    "    pert = liga+\"~\"+ligb    \n",
    "\n",
    "    dFP = []\n",
    "    for lig1_prop, lig2_prop in zip(molprops_per_lig_d[liga], molprops_per_lig_d[ligb]):\n",
    "        try:\n",
    "            dFP.append(lig2_prop - lig1_prop)\n",
    "        except TypeError:\n",
    "            # when NaN, just append 0, i.e. no change.\n",
    "            dFP.append(0)\n",
    "    # multiple columns were excluded from our training set data, mostly null and NaN columns. Remove the \n",
    "    # same columns from this test point.\n",
    "    dFP_clean = np.array(dFP)[column_indices_to_keep.astype(int)]\n",
    "        \n",
    "    # when NaN, just append 0, i.e. no change.\n",
    "    dFP_clean = np.nan_to_num(dFP_clean)\n",
    "\n",
    "    dFP_scaled = scaler.transform(dFP_clean.reshape(1, -1))\n",
    "    dFP_prepped = pca.transform(dFP_scaled)\n",
    "   \n",
    "\n",
    "\n",
    "\n",
    "\n",
    "    # now make SEM predictions by the ensemble.\n",
    "    model_preds = np.zeros(shape=(1, n_classes))\n",
    "    \n",
    "    for model in rf_models:\n",
    "        model_preds += model.predict_proba(dFP_prepped)\n",
    "        \n",
    "    # append prediction to list of predictions. Could implement alternative function here, \n",
    "    # e.g. (weighted) mean class pred.\n",
    "    \n",
    "    preds.append(np.argmax(model_preds))    \n"
   ]
  },
  {
   "cell_type": "code",
   "execution_count": 39,
   "metadata": {},
   "outputs": [
    {
     "data": {
      "text/html": [
       "<div>\n",
       "<style scoped>\n",
       "    .dataframe tbody tr th:only-of-type {\n",
       "        vertical-align: middle;\n",
       "    }\n",
       "\n",
       "    .dataframe tbody tr th {\n",
       "        vertical-align: top;\n",
       "    }\n",
       "\n",
       "    .dataframe thead th {\n",
       "        text-align: right;\n",
       "    }\n",
       "</style>\n",
       "<table border=\"1\" class=\"dataframe\">\n",
       "  <thead>\n",
       "    <tr style=\"text-align: right;\">\n",
       "      <th></th>\n",
       "      <th>toluene</th>\n",
       "      <th>2-methylindole</th>\n",
       "      <th>ethane</th>\n",
       "      <th>2-cyclopentanylindole</th>\n",
       "      <th>methanol</th>\n",
       "      <th>7-cyclopentanylindole</th>\n",
       "      <th>ethanol</th>\n",
       "      <th>methane</th>\n",
       "      <th>2-methylfuran</th>\n",
       "      <th>neopentane</th>\n",
       "    </tr>\n",
       "  </thead>\n",
       "  <tbody>\n",
       "    <tr>\n",
       "      <th>toluene</th>\n",
       "      <td>inf</td>\n",
       "      <td>2.222222</td>\n",
       "      <td>2.500000</td>\n",
       "      <td>2.222222</td>\n",
       "      <td>2.500000</td>\n",
       "      <td>2.222222</td>\n",
       "      <td>2.500000</td>\n",
       "      <td>2.500000</td>\n",
       "      <td>2.500000</td>\n",
       "      <td>2.500000</td>\n",
       "    </tr>\n",
       "    <tr>\n",
       "      <th>2-methylindole</th>\n",
       "      <td>2.222222</td>\n",
       "      <td>inf</td>\n",
       "      <td>2.222222</td>\n",
       "      <td>2.222222</td>\n",
       "      <td>2.222222</td>\n",
       "      <td>2.222222</td>\n",
       "      <td>2.222222</td>\n",
       "      <td>2.222222</td>\n",
       "      <td>2.500000</td>\n",
       "      <td>2.222222</td>\n",
       "    </tr>\n",
       "    <tr>\n",
       "      <th>ethane</th>\n",
       "      <td>2.500000</td>\n",
       "      <td>2.222222</td>\n",
       "      <td>inf</td>\n",
       "      <td>2.222222</td>\n",
       "      <td>20.000000</td>\n",
       "      <td>2.222222</td>\n",
       "      <td>20.000000</td>\n",
       "      <td>6.666667</td>\n",
       "      <td>2.222222</td>\n",
       "      <td>3.333333</td>\n",
       "    </tr>\n",
       "    <tr>\n",
       "      <th>2-cyclopentanylindole</th>\n",
       "      <td>2.222222</td>\n",
       "      <td>2.222222</td>\n",
       "      <td>2.222222</td>\n",
       "      <td>inf</td>\n",
       "      <td>2.222222</td>\n",
       "      <td>10.000000</td>\n",
       "      <td>2.222222</td>\n",
       "      <td>2.222222</td>\n",
       "      <td>2.222222</td>\n",
       "      <td>2.222222</td>\n",
       "    </tr>\n",
       "    <tr>\n",
       "      <th>methanol</th>\n",
       "      <td>2.500000</td>\n",
       "      <td>2.222222</td>\n",
       "      <td>20.000000</td>\n",
       "      <td>2.222222</td>\n",
       "      <td>inf</td>\n",
       "      <td>2.222222</td>\n",
       "      <td>5.000000</td>\n",
       "      <td>6.666667</td>\n",
       "      <td>2.222222</td>\n",
       "      <td>3.333333</td>\n",
       "    </tr>\n",
       "    <tr>\n",
       "      <th>7-cyclopentanylindole</th>\n",
       "      <td>2.222222</td>\n",
       "      <td>2.222222</td>\n",
       "      <td>2.222222</td>\n",
       "      <td>10.000000</td>\n",
       "      <td>2.222222</td>\n",
       "      <td>inf</td>\n",
       "      <td>2.222222</td>\n",
       "      <td>2.222222</td>\n",
       "      <td>2.222222</td>\n",
       "      <td>2.222222</td>\n",
       "    </tr>\n",
       "    <tr>\n",
       "      <th>ethanol</th>\n",
       "      <td>2.500000</td>\n",
       "      <td>2.222222</td>\n",
       "      <td>20.000000</td>\n",
       "      <td>2.222222</td>\n",
       "      <td>5.000000</td>\n",
       "      <td>2.222222</td>\n",
       "      <td>inf</td>\n",
       "      <td>6.666667</td>\n",
       "      <td>2.500000</td>\n",
       "      <td>3.333333</td>\n",
       "    </tr>\n",
       "    <tr>\n",
       "      <th>methane</th>\n",
       "      <td>2.500000</td>\n",
       "      <td>2.222222</td>\n",
       "      <td>6.666667</td>\n",
       "      <td>2.222222</td>\n",
       "      <td>6.666667</td>\n",
       "      <td>2.222222</td>\n",
       "      <td>6.666667</td>\n",
       "      <td>inf</td>\n",
       "      <td>2.222222</td>\n",
       "      <td>2.500000</td>\n",
       "    </tr>\n",
       "    <tr>\n",
       "      <th>2-methylfuran</th>\n",
       "      <td>2.500000</td>\n",
       "      <td>2.500000</td>\n",
       "      <td>2.222222</td>\n",
       "      <td>2.222222</td>\n",
       "      <td>2.222222</td>\n",
       "      <td>2.222222</td>\n",
       "      <td>2.500000</td>\n",
       "      <td>2.222222</td>\n",
       "      <td>inf</td>\n",
       "      <td>2.222222</td>\n",
       "    </tr>\n",
       "    <tr>\n",
       "      <th>neopentane</th>\n",
       "      <td>2.500000</td>\n",
       "      <td>2.222222</td>\n",
       "      <td>3.333333</td>\n",
       "      <td>2.222222</td>\n",
       "      <td>3.333333</td>\n",
       "      <td>2.222222</td>\n",
       "      <td>3.333333</td>\n",
       "      <td>2.500000</td>\n",
       "      <td>2.222222</td>\n",
       "      <td>inf</td>\n",
       "    </tr>\n",
       "  </tbody>\n",
       "</table>\n",
       "</div>"
      ],
      "text/plain": [
       "                        toluene  2-methylindole     ethane  \\\n",
       "toluene                     inf        2.222222   2.500000   \n",
       "2-methylindole         2.222222             inf   2.222222   \n",
       "ethane                 2.500000        2.222222        inf   \n",
       "2-cyclopentanylindole  2.222222        2.222222   2.222222   \n",
       "methanol               2.500000        2.222222  20.000000   \n",
       "7-cyclopentanylindole  2.222222        2.222222   2.222222   \n",
       "ethanol                2.500000        2.222222  20.000000   \n",
       "methane                2.500000        2.222222   6.666667   \n",
       "2-methylfuran          2.500000        2.500000   2.222222   \n",
       "neopentane             2.500000        2.222222   3.333333   \n",
       "\n",
       "                       2-cyclopentanylindole   methanol  \\\n",
       "toluene                             2.222222   2.500000   \n",
       "2-methylindole                      2.222222   2.222222   \n",
       "ethane                              2.222222  20.000000   \n",
       "2-cyclopentanylindole                    inf   2.222222   \n",
       "methanol                            2.222222        inf   \n",
       "7-cyclopentanylindole              10.000000   2.222222   \n",
       "ethanol                             2.222222   5.000000   \n",
       "methane                             2.222222   6.666667   \n",
       "2-methylfuran                       2.222222   2.222222   \n",
       "neopentane                          2.222222   3.333333   \n",
       "\n",
       "                       7-cyclopentanylindole    ethanol   methane  \\\n",
       "toluene                             2.222222   2.500000  2.500000   \n",
       "2-methylindole                      2.222222   2.222222  2.222222   \n",
       "ethane                              2.222222  20.000000  6.666667   \n",
       "2-cyclopentanylindole              10.000000   2.222222  2.222222   \n",
       "methanol                            2.222222   5.000000  6.666667   \n",
       "7-cyclopentanylindole                    inf   2.222222  2.222222   \n",
       "ethanol                             2.222222        inf  6.666667   \n",
       "methane                             2.222222   6.666667       inf   \n",
       "2-methylfuran                       2.222222   2.500000  2.222222   \n",
       "neopentane                          2.222222   3.333333  2.500000   \n",
       "\n",
       "                       2-methylfuran  neopentane  \n",
       "toluene                     2.500000    2.500000  \n",
       "2-methylindole              2.500000    2.222222  \n",
       "ethane                      2.222222    3.333333  \n",
       "2-cyclopentanylindole       2.222222    2.222222  \n",
       "methanol                    2.222222    3.333333  \n",
       "7-cyclopentanylindole       2.222222    2.222222  \n",
       "ethanol                     2.500000    3.333333  \n",
       "methane                     2.222222    2.500000  \n",
       "2-methylfuran                    inf    2.222222  \n",
       "neopentane                  2.222222         inf  "
      ]
     },
     "execution_count": 39,
     "metadata": {},
     "output_type": "execute_result"
    }
   ],
   "source": [
    "# make an empty dataframe.\n",
    "pred_mtx = pd.DataFrame(columns=mol_names, index=mol_names)\n",
    "\n",
    "for pred, (liga, ligb) in zip(preds, list(itertools.combinations(mol_names, 2))):\n",
    "    # add value to all predictions such that we don't end up with zeroes in matrix (breaks CVXOPT)\n",
    "    pred += 1\n",
    "    \n",
    "    # invert value because DiffNet high values are desirable edges. Scale to more readable format.\n",
    "    pred = 1.0/pred*20\n",
    "\n",
    "    # fill matrix with predicted SEMs.\n",
    "    pred_mtx.loc[[liga], [ligb]] = pred\n",
    "    pred_mtx.loc[[ligb], [liga]] = pred\n",
    "pred_mtx = pred_mtx.replace(np.nan, np.inf)\n",
    "pred_mtx       "
   ]
  },
  {
   "cell_type": "markdown",
   "metadata": {},
   "source": [
    "### Load numpy matrix for Loeffler18 set, run DiffNet"
   ]
  },
  {
   "cell_type": "code",
   "execution_count": 40,
   "metadata": {},
   "outputs": [],
   "source": [
    "sij = np.array(pred_mtx)"
   ]
  },
  {
   "cell_type": "code",
   "execution_count": 41,
   "metadata": {},
   "outputs": [],
   "source": [
    "# load ligand images + the order they appear in sij:\n",
    "path_to_ligand_imgs = \"TESTSETS/loeffler18/work/mol_imgs/\"\n",
    "path_to_ligand_idx = \"TESTSETS/loeffler18/work/mol_imgs/ligand_index.csv\"\n",
    "\n",
    "ligand_order = []\n",
    "with open(path_to_ligand_idx, \"r\") as f:\n",
    "    reader = csv.reader(f)\n",
    "    for row in reader:\n",
    "        ligand_order.append(row[0])\n",
    "        \n",
    "lig_images_dict = {}\n",
    "# for each ligand, read in the mol image and build dict:\n",
    "for ligand in ligand_order:\n",
    "    lig_img = mpimg.imread(path_to_ligand_imgs+ligand+\".png\")\n",
    "    lig_images_dict[ligand] = lig_img\n",
    "\n"
   ]
  },
  {
   "cell_type": "code",
   "execution_count": 42,
   "metadata": {},
   "outputs": [],
   "source": [
    "def draw_diffnet_graph( g, lig_imgs, ligand_order, pos=None, ax=None, fig=None,\n",
    "                        widthscale=None, nodescale=2.5, node_color=None, molscale=None, max_sampling=None,\n",
    "                        origins=['O']):\n",
    "    '''\n",
    "    Draw a graph representing the difference network.\n",
    "    \n",
    "    Args:\n",
    "    g: nx.Graph - the graph representing the difference network.\n",
    "    pos: Kx2 numpy array or dict - the coordinates to place the nodes \n",
    "    in the graph. If numpy array, pos[i] is the coordinates for node i,\n",
    "    excluding origin.  If dict, pos[i] is the coordinate of node i, including\n",
    "    origin. If None, use a spring layout.\n",
    "    Returns:\n",
    "    pos: dict - pos[i] gives the positions of the node i.\n",
    "    '''\n",
    "    K = g.number_of_nodes() - len(origins)\n",
    "\n",
    "    if isinstance( pos, np.ndarray):\n",
    "        mypos = dict( [(i, pos[i]) for i in xrange(K)])\n",
    "        if (len(pos) == K):\n",
    "            for d, o in enumerate(origins):\n",
    "                mypos.update( {o : (-1.0*d, -1.0*d)})\n",
    "        else:\n",
    "            for d, o in enumerate(origins):\n",
    "                mypos.update( {o : pos[K+d]})\n",
    "    elif type( pos) == dict:\n",
    "        mypos = pos\n",
    "    elif pos == \"custom\":\n",
    "        #mypos = nx.nx_agraph.graphviz_layout(g, prog=\"neato\")\n",
    "        mypos = nx.circular_layout( g)\n",
    "    else:\n",
    "        mypos = nx.spring_layout( g)\n",
    "    \n",
    "    node_size = nodescale*K\n",
    "    if node_color is None:\n",
    "        node_color = 'red'\n",
    "    nx.draw_networkx_nodes( g, mypos, nodelist=range(K), \n",
    "                            node_size=node_size,\n",
    "                            node_color=node_color,\n",
    "                            ax=ax, alpha=1,\n",
    "                          )\n",
    "#     nodeO = nx.draw_networkx_nodes( g, mypos, nodelist=origins,\n",
    "#                                     node_size=node_size*2,\n",
    "#                                     node_color='#FFFFFF',\n",
    "#                                     width=2.,\n",
    "#                                     ax=ax)\n",
    "#     if node_color is None or len(node_color)<=K:\n",
    "#         nodeO.set_edgecolor( 'red')\n",
    "#     else:\n",
    "#         nodeO.set_edgecolor( node_color[K:])\n",
    "\n",
    "    if widthscale is None:\n",
    "        widthscale = 5.*K\n",
    "\n",
    "    weights = np.array( [ w for u, v, w in list(g.edges( data='weight')) ])\n",
    "    weights[weights<0] = 0 # Set negative numbers to 0.\n",
    "    \n",
    "\n",
    "    if max_sampling:\n",
    "        \n",
    "        # figure out highest weights:\n",
    "        sorted_weights = np.sort(weights)[::-1]\n",
    "        sampling_checker = num_top_edges_to_keep = 0\n",
    "\n",
    "        # keep adding highest weights until max_sampling threshold is reached\n",
    "        for weight in sorted_weights:\n",
    "            sampling_checker += weight\n",
    "            \n",
    "            # when threshold is reached, output the weight threshold\n",
    "            if sampling_checker >= max_sampling:\n",
    "                weight_threshold = weight\n",
    "                break\n",
    "                \n",
    "        # replace every weight below threshold with nan to hide edges:\n",
    "        weights[weights<weight_threshold] = np.nan \n",
    "    \n",
    "    \n",
    "    width = weights*widthscale\n",
    "    nx.draw_networkx_edges( g, mypos, \n",
    "                            width=width,\n",
    "                            ax=ax)\n",
    "    \n",
    "    \n",
    "    # overlay molecular representations onto nodes:\n",
    "    trans = ax.transData.transform\n",
    "    trans2 = fig.transFigure.inverted().transform\n",
    "    imsize=molscale\n",
    "    for n, lig_name in zip(g.nodes(), ligand_order):\n",
    "\n",
    "        img = lig_imgs[lig_name]\n",
    "        (x,y) = mypos[n]\n",
    "        xx,yy = trans((x,y)) # figure coordinates\n",
    "        xa,ya = trans2((xx,yy)) # axes coordinates\n",
    "        \n",
    "\n",
    "        # add mol image:\n",
    "        a = plt.axes([xa-imsize/2.0,ya-imsize/2.0, imsize, imsize ], zorder=100)\n",
    "        a.imshow(img)\n",
    "        \n",
    "\n",
    "        a.axis('off')\n",
    "    \n",
    "    \n",
    "    return mypos"
   ]
  },
  {
   "cell_type": "code",
   "execution_count": 43,
   "metadata": {
    "scrolled": false
   },
   "outputs": [
    {
     "name": "stdout",
     "output_type": "stream",
     "text": [
      "     pcost       dcost       gap    pres   dres   k/t\n",
      " 0:  0.0000e+00 -1.0000e+02  2e+03  4e-01  9e+00  1e+00\n",
      " 1:  2.9833e+00  1.8198e+00  2e+01  5e-03  1e-01  1e-02\n",
      " 2:  1.0414e+00  9.6613e-01  2e+00  3e-04  7e-03  1e-03\n",
      " 3:  6.6637e-01  6.1706e-01  1e+00  2e-04  5e-03  2e-03\n",
      " 4:  5.2348e-01  5.0126e-01  8e-01  1e-04  2e-03  2e-03\n",
      " 5:  4.1727e-01  4.0974e-01  3e-01  4e-05  8e-04  1e-03\n",
      " 6:  3.5037e-01  3.4752e-01  2e-01  2e-05  3e-04  8e-04\n",
      " 7:  3.3287e-01  3.3193e-01  6e-02  5e-06  1e-04  3e-04\n",
      " 8:  3.1949e-01  3.1943e-01  4e-03  4e-07  8e-06  2e-05\n",
      " 9:  3.1877e-01  3.1876e-01  7e-04  6e-08  1e-06  4e-06\n",
      "10:  3.1866e-01  3.1865e-01  7e-05  6e-09  1e-07  4e-07\n",
      "11:  3.1864e-01  3.1864e-01  3e-06  3e-10  5e-09  2e-08\n",
      "12:  3.1864e-01  3.1864e-01  1e-07  1e-11  2e-10  8e-10\n",
      "Optimal solution found.\n"
     ]
    },
    {
     "data": {
      "image/png": "[encoded data removed]",
      "text/plain": [
       "<Figure size 720x720 with 12 Axes>"
      ]
     },
     "metadata": {
      "needs_background": "light"
     },
     "output_type": "display_data"
    }
   ],
   "source": [
    "sij = matrix(sij)\n",
    "\n",
    "        \n",
    "N=1000\n",
    "integer_n=True\n",
    "\n",
    "n = networkBFEalloc( sij, N)\n",
    "if integer_n:\n",
    "    nint = round_to_integers( n)\n",
    "    n = matrix( nint[:], n.size, tc='d')\n",
    "    \n",
    "G = gph.diffnet_to_graph( n)\n",
    "fig, ax = plt.subplots( figsize=(10, 10))\n",
    "draw_diffnet_graph( G, lig_images_dict, ligand_order, \n",
    "                   pos=\"custom\", ax=ax, fig=fig, widthscale=200./N, \n",
    "                   nodescale=700, molscale=0.1, node_color=\"white\")\n",
    "ax.set_aspect( 1)\n",
    "ax.axis( 'off')\n",
    "\n",
    "plt.savefig(\"TESTSETS/loeffler18/diff_network.png\", dpi=300)\n",
    "plt.show()\n"
   ]
  },
  {
   "cell_type": "code",
   "execution_count": null,
   "metadata": {},
   "outputs": [],
   "source": []
  }
 ],
 "metadata": {
  "kernelspec": {
   "display_name": "Python 3",
   "language": "python",
   "name": "python3"
  },
  "language_info": {
   "codemirror_mode": {
    "name": "ipython",
    "version": 2
   },
   "file_extension": ".py",
   "mimetype": "text/x-python",
   "name": "python",
   "nbconvert_exporter": "python",
   "pygments_lexer": "ipython2",
   "version": "2.7.16"
  }
 },
 "nbformat": 4,
 "nbformat_minor": 2
}
